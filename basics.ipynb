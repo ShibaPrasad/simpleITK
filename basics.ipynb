{
 "cells": [
  {
   "cell_type": "code",
   "execution_count": 1,
   "metadata": {},
   "outputs": [
    {
     "name": "stdout",
     "output_type": "stream",
     "text": [
      "OpenCV version = 3.4.2\n",
      "Using PyTorch Version 1.3.1\n"
     ]
    }
   ],
   "source": [
    "import numpy as np\n",
    "import matplotlib\n",
    "import matplotlib.pyplot as plt\n",
    "\n",
    "import torch\n",
    "import torch.nn as nn\n",
    "%matplotlib inline\n",
    "import numbers\n",
    "import ctypes\n",
    "import _pickle as cPickle\n",
    "import pydicom as dicom\n",
    "\n",
    "import cv2\n",
    "import os\n",
    "import time\n",
    "import PIL\n",
    "import re\n",
    "import math\n",
    "import sys\n",
    "\n",
    "\n",
    "import SimpleITK as sitk\n",
    "from PIL import Image\n",
    "from scipy import linalg\n",
    "\n",
    "print ('OpenCV version = ' + cv2.__version__)\n",
    "print(\"Using PyTorch Version %s\" %torch.__version__)"
   ]
  },
  {
   "cell_type": "code",
   "execution_count": null,
   "metadata": {},
   "outputs": [],
   "source": []
  },
  {
   "cell_type": "code",
   "execution_count": 3,
   "metadata": {},
   "outputs": [],
   "source": [
    "# image = sitk.Image ( 256, 128, 64, sitk.sitkInt16 );"
   ]
  },
  {
   "cell_type": "code",
   "execution_count": 4,
   "metadata": {},
   "outputs": [],
   "source": [
    "# How about 2d?\n",
    "# twoD = sitk.Image ( 64, 64, sitk.sitkFloat32 )"
   ]
  },
  {
   "cell_type": "code",
   "execution_count": 13,
   "metadata": {},
   "outputs": [],
   "source": [
    "pathname = '/user/iibi/skuanar/Downloads/featExtract1.6/featExtract1.6/ShibaNew/H-18151/H-18151_V2_INSP.nii'\n",
    "image = sitk.ReadImage(pathname)"
   ]
  },
  {
   "cell_type": "code",
   "execution_count": 14,
   "metadata": {},
   "outputs": [
    {
     "data": {
      "text/plain": [
       "3"
      ]
     },
     "execution_count": 14,
     "metadata": {},
     "output_type": "execute_result"
    }
   ],
   "source": [
    "image.GetDimension()"
   ]
  },
  {
   "cell_type": "code",
   "execution_count": 15,
   "metadata": {
    "scrolled": true
   },
   "outputs": [],
   "source": [
    "# twoD.GetDimension()"
   ]
  },
  {
   "cell_type": "code",
   "execution_count": 16,
   "metadata": {},
   "outputs": [
    {
     "data": {
      "text/plain": [
       "(512, 512, 647)"
      ]
     },
     "execution_count": 16,
     "metadata": {},
     "output_type": "execute_result"
    }
   ],
   "source": [
    "image.GetSize()"
   ]
  },
  {
   "cell_type": "code",
   "execution_count": 17,
   "metadata": {},
   "outputs": [
    {
     "name": "stdout",
     "output_type": "stream",
     "text": [
      "512\n"
     ]
    }
   ],
   "source": [
    "print (image.GetWidth())"
   ]
  },
  {
   "cell_type": "code",
   "execution_count": 18,
   "metadata": {},
   "outputs": [
    {
     "name": "stdout",
     "output_type": "stream",
     "text": [
      "512\n"
     ]
    }
   ],
   "source": [
    "print (image.GetHeight())"
   ]
  },
  {
   "cell_type": "code",
   "execution_count": 19,
   "metadata": {},
   "outputs": [
    {
     "name": "stdout",
     "output_type": "stream",
     "text": [
      "647\n"
     ]
    }
   ],
   "source": [
    "print (image.GetDepth())"
   ]
  },
  {
   "cell_type": "code",
   "execution_count": 20,
   "metadata": {},
   "outputs": [
    {
     "name": "stdout",
     "output_type": "stream",
     "text": [
      "(0.0, 0.0, 0.0)\n"
     ]
    }
   ],
   "source": [
    "print (image.GetOrigin())\n"
   ]
  },
  {
   "cell_type": "code",
   "execution_count": 21,
   "metadata": {},
   "outputs": [
    {
     "name": "stdout",
     "output_type": "stream",
     "text": [
      "(1.0, 1.0, 1.0)\n"
     ]
    }
   ],
   "source": [
    "print (image.GetSpacing())"
   ]
  },
  {
   "cell_type": "code",
   "execution_count": 22,
   "metadata": {},
   "outputs": [
    {
     "name": "stdout",
     "output_type": "stream",
     "text": [
      "2\n"
     ]
    }
   ],
   "source": [
    "print (image.GetPixelIDValue())"
   ]
  },
  {
   "cell_type": "code",
   "execution_count": 23,
   "metadata": {},
   "outputs": [
    {
     "name": "stdout",
     "output_type": "stream",
     "text": [
      "16-bit signed integer\n"
     ]
    }
   ],
   "source": [
    "print (image.GetPixelIDTypeAsString())"
   ]
  },
  {
   "cell_type": "code",
   "execution_count": 25,
   "metadata": {},
   "outputs": [
    {
     "name": "stdout",
     "output_type": "stream",
     "text": [
      "(1.0, 0.0, 0.0, 0.0, 1.0, 0.0, 0.0, 0.0, 1.0)\n"
     ]
    }
   ],
   "source": [
    "print(image.GetDirection())"
   ]
  },
  {
   "cell_type": "code",
   "execution_count": 26,
   "metadata": {},
   "outputs": [
    {
     "name": "stdout",
     "output_type": "stream",
     "text": [
      "-1024\n"
     ]
    }
   ],
   "source": [
    "# Addressing pixels, details in the presentation\n",
    "# Returns the value of a pixel\n",
    "print (image.GetPixel ( 0, 0, 0 ))\n"
   ]
  },
  {
   "cell_type": "code",
   "execution_count": 27,
   "metadata": {},
   "outputs": [
    {
     "name": "stdout",
     "output_type": "stream",
     "text": [
      "1\n"
     ]
    }
   ],
   "source": [
    "image.SetPixel ( 0, 0, 0, 1 )\n",
    "print (image.GetPixel ( 0, 0, 0))"
   ]
  },
  {
   "cell_type": "code",
   "execution_count": 29,
   "metadata": {},
   "outputs": [
    {
     "name": "stdout",
     "output_type": "stream",
     "text": [
      "\"ITK_FileNotes\":\"\"\n",
      "\"aux_file\":\"\"\n",
      "\"bitpix\":\"16\"\n",
      "\"cal_max\":\"0\"\n",
      "\"cal_min\":\"0\"\n",
      "\"datatype\":\"4\"\n",
      "\"descrip\":\"\"\n",
      "\"dim[0]\":\"3\"\n",
      "\"dim[1]\":\"512\"\n",
      "\"dim[2]\":\"512\"\n",
      "\"dim[3]\":\"647\"\n",
      "\"dim[4]\":\"1\"\n",
      "\"dim[5]\":\"1\"\n",
      "\"dim[6]\":\"1\"\n",
      "\"dim[7]\":\"1\"\n",
      "\"dim_info\":\"\u0000\"\n",
      "\"intent_code\":\"0\"\n",
      "\"intent_name\":\"\"\n",
      "\"intent_p1\":\"0\"\n",
      "\"intent_p2\":\"0\"\n",
      "\"intent_p3\":\"0\"\n",
      "\"pixdim[0]\":\"1\"\n",
      "\"pixdim[1]\":\"1\"\n",
      "\"pixdim[2]\":\"1\"\n",
      "\"pixdim[3]\":\"1\"\n",
      "\"pixdim[4]\":\"0\"\n",
      "\"pixdim[5]\":\"0\"\n",
      "\"pixdim[6]\":\"0\"\n",
      "\"pixdim[7]\":\"0\"\n",
      "\"qform_code\":\"1\"\n",
      "\"qform_code_name\":\"NIFTI_XFORM_SCANNER_ANAT\"\n",
      "\"qoffset_x\":\"-0\"\n",
      "\"qoffset_y\":\"-0\"\n",
      "\"qoffset_z\":\"0\"\n",
      "\"quatern_b\":\"0\"\n",
      "\"quatern_c\":\"0\"\n",
      "\"quatern_d\":\"1\"\n",
      "\"scl_inter\":\"0\"\n",
      "\"scl_slope\":\"1\"\n",
      "\"sform_code\":\"0\"\n",
      "\"sform_code_name\":\"NIFTI_XFORM_UNKNOWN\"\n",
      "\"slice_code\":\"\u0000\"\n",
      "\"slice_duration\":\"0\"\n",
      "\"slice_end\":\"0\"\n",
      "\"slice_start\":\"0\"\n",
      "\"srow_x\":\"0 0 0 0\"\n",
      "\"srow_y\":\"0 0 0 0\"\n",
      "\"srow_z\":\"0 0 0 0\"\n",
      "\"toffset\":\"0\"\n",
      "\"vox_offset\":\"352\"\n",
      "\"xyzt_units\":\"\u0002\"\n"
     ]
    }
   ],
   "source": [
    "for key in image.GetMetaDataKeys():\n",
    "        print (\"\\\"{0}\\\":\\\"{1}\\\"\".format(key, image.GetMetaData(key)))"
   ]
  },
  {
   "cell_type": "code",
   "execution_count": null,
   "metadata": {},
   "outputs": [],
   "source": []
  },
  {
   "cell_type": "code",
   "execution_count": 33,
   "metadata": {},
   "outputs": [],
   "source": [
    "# http://insightsoftwareconsortium.github.io/SimpleITK-Notebooks/Python_html/03_Image_Details.html\n",
    "dataDir = \"/user/iibi/skuanar/Downloads/featExtract1.6/featExtract1.6/ShibaNew/H-18151/\"\n",
    "\n",
    "# Create a reader\n",
    "reader = sitk.ImageFileReader()\n",
    "reader.SetFileName ( dataDir + \"H-18151_V2_INSP.nii\" )\n",
    "\n",
    "# Read\n",
    "image_differentRead = reader.Execute()\n",
    "\n",
    "z = 0\n",
    "slice = sitk.GetArrayFromImage(image_differentRead)[z,:,:]\n",
    "plt.imshow(slice, cmap='gray')"
   ]
  },
  {
   "cell_type": "code",
   "execution_count": 34,
   "metadata": {},
   "outputs": [
    {
     "data": {
      "text/plain": [
       "<matplotlib.image.AxesImage at 0x7f6f9e472f60>"
      ]
     },
     "execution_count": 34,
     "metadata": {},
     "output_type": "execute_result"
    },
    {
     "data": {
      "image/png": "[encoded data removed]",
      "text/plain": [
       "<Figure size 432x288 with 1 Axes>"
      ]
     },
     "metadata": {
      "needs_background": "light"
     },
     "output_type": "display_data"
    }
   ],
   "source": []
  },
  {
   "cell_type": "code",
   "execution_count": null,
   "metadata": {},
   "outputs": [],
   "source": []
  },
  {
   "cell_type": "code",
   "execution_count": null,
   "metadata": {},
   "outputs": [],
   "source": []
  },
  {
   "cell_type": "code",
   "execution_count": null,
   "metadata": {},
   "outputs": [],
   "source": [
    "# Welcome to the first demo\n",
    "print 'SimpleITK Image Basics'\n",
    "\n",
    "# <demo> --- stop ---\n",
    "\n",
    "# Every demo starts by importing the SimpleITK module\n",
    "import SimpleITK as sitk\n",
    "\n",
    "# <demo> --- stop ---\n",
    "\n",
    "# Create an image\n",
    "image = sitk.Image ( 256, 128, 64, sitk.sitkInt16 );\n",
    "# How about 2d?\n",
    "twoD = sitk.Image ( 64, 64, sitk.sitkFloat32 )\n",
    "\n",
    "# <demo> --- stop ---\n",
    "\n",
    "# What can an image do for us?\n",
    "help ( image )\n",
    "\n",
    "# <demo> --- stop ---\n",
    "\n",
    "# Number of dimensions\n",
    "image.GetDimension()\n",
    "\n",
    "# <demo> --- stop ---\n",
    "\n",
    "# Size of the image\n",
    "image.GetSize()\n",
    "\n",
    "# <demo> --- stop ---\n",
    "\n",
    "# Individual demensions\n",
    "print image.GetWidth()\n",
    "print image.GetHeight()\n",
    "print image.GetDepth()\n",
    "\n",
    "# <demo> --- stop ---\n",
    "\n",
    "# Origin and Spacing\n",
    "print image.GetOrigin()\n",
    "print image.GetSpacing()\n",
    "\n",
    "# <demo> --- stop ---\n",
    "\n",
    "# Pixel type\n",
    "print image.GetPixelIDValue()\n",
    "print image.GetPixelIDTypeAsString()\n",
    "\n",
    "# <demo> --- stop ---\n",
    "\n",
    "# Addressing pixels, details in the presentation\n",
    "print image.GetPixel ( 0, 0, 0 )\n",
    "image.SetPixel ( 0, 0, 0, 1 )\n",
    "print image.GetPixel ( 0, 0, 0 )\n",
    "\n",
    "# <demo> --- stop ---\n",
    "\n",
    "# Addressing pixels the easier way, details in the presentation\n",
    "print image[0,0,0]\n",
    "image[0,0,0] = 10\n",
    "print image[0,0,0]\n",
    "\n",
    "# <demo> --- stop ---"
   ]
  }
 ],
 "metadata": {
  "kernelspec": {
   "display_name": "Python 3",
   "language": "python",
   "name": "python3"
  },
  "language_info": {
   "codemirror_mode": {
    "name": "ipython",
    "version": 3
   },
   "file_extension": ".py",
   "mimetype": "text/x-python",
   "name": "python",
   "nbconvert_exporter": "python",
   "pygments_lexer": "ipython3",
   "version": "3.7.1"
  }
 },
 "nbformat": 4,
 "nbformat_minor": 2
}
